{
 "cells": [
  {
   "cell_type": "markdown",
   "id": "ae6d17f9",
   "metadata": {},
   "source": [
    "# Vertical datum conversion using GDAL"
   ]
  },
  {
   "cell_type": "code",
   "execution_count": 1,
   "id": "2cd8106d",
   "metadata": {},
   "outputs": [],
   "source": [
    "###import gdal library\n",
    "\n",
    "from osgeo import gdal"
   ]
  },
  {
   "cell_type": "code",
   "execution_count": 2,
   "id": "fc4da188",
   "metadata": {},
   "outputs": [
    {
     "name": "stdout",
     "output_type": "stream",
     "text": [
      "Usage: gdalwarp [--help-general] [--formats]\n",
      "    [-s_srs srs_def] [-t_srs srs_def] [-to \"NAME=VALUE\"]* [-novshiftgrid]\n",
      "    [-order n | -tps | -rpc | -geoloc] [-et err_threshold]\n",
      "    [-refine_gcps tolerance [minimum_gcps]]\n",
      "    [-te xmin ymin xmax ymax] [-tr xres yres] [-tap] [-ts width height]\n",
      "    [-ovr level|AUTO|AUTO-n|NONE] [-wo \"NAME=VALUE\"] [-ot Byte/Int16/...] [-wt Byte/Int16]\n",
      "    [-srcnodata \"value [value...]\"] [-dstnodata \"value [value...]\"] -dstalpha\n",
      "    [-r resampling_method] [-wm memory_in_mb] [-multi] [-q]\n",
      "    [-cutline datasource] [-cl layer] [-cwhere expression]\n",
      "    [-csql statement] [-cblend dist_in_pixels] [-crop_to_cutline]\n",
      "    [-of format] [-co \"NAME=VALUE\"]* [-overwrite]\n",
      "    [-nomd] [-cvmd meta_conflict_value] [-setci] [-oo NAME=VALUE]*\n",
      "    [-doo NAME=VALUE]*\n",
      "    srcfile* dstfile\n",
      "\n",
      "Available resampling methods:\n",
      "    near (default), bilinear, cubic, cubicspline, lanczos, average, mode,  max, min, med, Q1, Q3.\n"
     ]
    }
   ],
   "source": [
    "!gdalwarp --help"
   ]
  },
  {
   "cell_type": "markdown",
   "id": "48cdd436",
   "metadata": {},
   "source": [
    "Download the EGM96 grid file on https://download.osgeo.org/proj/vdatum/\n",
    "\n",
    "I pasted it on C:\\OSGeo4W\\share\\proj\\ that I can use it using QGIS as well\n",
    "\n",
    "Here we use SRTM DEM that uses EGM96 vertical datum. We will convert it to Ellipsoid datum WGS84"
   ]
  },
  {
   "cell_type": "code",
   "execution_count": 3,
   "id": "c3c312aa",
   "metadata": {},
   "outputs": [
    {
     "name": "stdout",
     "output_type": "stream",
     "text": [
      "Creating output file that is 3601P x 3601L.\n",
      "Processing DEM\\s08_e110_1arc_v3.bil [1/1] : 0Using internal nodata values (e.g. -32767) for image DEM\\s08_e110_1arc_v3.bil.\n",
      "Copying nodata values from source DEM\\s08_e110_1arc_v3.bil to destination DEM\\srtm_ellipsoid.tif.\n",
      "...10...20...30...40...50...60...70...80...90...100 - done.\n"
     ]
    }
   ],
   "source": [
    "!gdalwarp -s_srs \"+proj=longlat +datum=WGS84 +geoidgrids=C:\\OSGeo4W\\share\\proj\\egm96_15.gtx\" -t_srs \"+proj=longlat +datum=WGS84 +no_defs\" -r bilinear -of GTiff -overwrite \"DEM\\s08_e110_1arc_v3.bil\" \"DEM\\srtm_ellipsoid.tif\""
   ]
  }
 ],
 "metadata": {
  "kernelspec": {
   "display_name": "Python 3",
   "language": "python",
   "name": "python3"
  },
  "language_info": {
   "codemirror_mode": {
    "name": "ipython",
    "version": 3
   },
   "file_extension": ".py",
   "mimetype": "text/x-python",
   "name": "python",
   "nbconvert_exporter": "python",
   "pygments_lexer": "ipython3",
   "version": "3.7.11"
  }
 },
 "nbformat": 4,
 "nbformat_minor": 5
}
